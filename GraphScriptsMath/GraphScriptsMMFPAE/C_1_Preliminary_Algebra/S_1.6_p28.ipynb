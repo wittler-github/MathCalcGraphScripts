{
 "cells": [
  {
   "cell_type": "markdown",
   "id": "bffa1278-e97b-470f-8736-a1fb379d61df",
   "metadata": {},
   "source": [
    "#### Mathematical Methods For Physics And Engineering - \n",
    "#### Section 1.5 page 25 - Binomial Expansion"
   ]
  },
  {
   "cell_type": "code",
   "execution_count": 1,
   "id": "efdf5fbd-641c-4005-9ca5-139befeb24e4",
   "metadata": {},
   "outputs": [],
   "source": [
    "import matplotlib as mpl\n",
    "import numpy as np\n",
    "import sympy as sp\n",
    "from sympy import Sum, symbols, Indexed, lambdify, Integral, Limit, binomial, expand_func\n",
    "from sympy.abc import i, k, m, n, x,y\n",
    "from sympy import Sum, factorial, oo, IndexedBase, Function\n",
    "import matplotlib.pyplot as plt\n",
    "from sympy import init_printing\n",
    "init_printing() "
   ]
  },
  {
   "cell_type": "markdown",
   "id": "415adc70-ec74-494b-a725-ec32ed9ba5b1",
   "metadata": {},
   "source": [
    "#### Calculating the binomial coefficients for $ (x+y)^n $ for $ n = 1,2,3,4 .. 8 $ (p.25)"
   ]
  },
  {
   "cell_type": "markdown",
   "id": "762be921-88c1-4f8e-894b-610f972374e4",
   "metadata": {},
   "source": [
    "##### Binomial coefficients with sympy function \"binomial\""
   ]
  },
  {
   "cell_type": "code",
   "execution_count": 2,
   "id": "8aa1fe1b-5031-4b1e-a98b-23e49fcba74b",
   "metadata": {},
   "outputs": [
    {
     "name": "stdout",
     "output_type": "stream",
     "text": [
      "[1]\n",
      "[1, 1]\n",
      "[1, 2, 1]\n",
      "[1, 3, 3, 1]\n",
      "[1, 4, 6, 4, 1]\n",
      "[1, 5, 10, 10, 5, 1]\n",
      "[1, 6, 15, 20, 15, 6, 1]\n",
      "[1, 7, 21, 35, 35, 21, 7, 1]\n"
     ]
    }
   ],
   "source": [
    "for n_i in range(8):\n",
    "    print([sp.binomial(n_i, k_i) for k_i in range(n_i + 1)])"
   ]
  },
  {
   "cell_type": "markdown",
   "id": "3c20f2a1-3298-4edd-9a35-d225a026d067",
   "metadata": {},
   "source": [
    "##### Binomial coefficients expressly using sympy function \"factorial\""
   ]
  },
  {
   "cell_type": "code",
   "execution_count": 3,
   "id": "a9edb185-a4ab-4bdc-9c43-3d66d190decc",
   "metadata": {
    "tags": []
   },
   "outputs": [
    {
     "name": "stdout",
     "output_type": "stream",
     "text": [
      "[1]\n",
      "[1, 1]\n",
      "[1, 2, 1]\n",
      "[1, 3, 3, 1]\n",
      "[1, 4, 6, 4, 1]\n",
      "[1, 5, 10, 10, 5, 1]\n",
      "[1, 6, 15, 20, 15, 6, 1]\n",
      "[1, 7, 21, 35, 35, 21, 7, 1]\n"
     ]
    }
   ],
   "source": [
    "n, k = symbols(\"n, k\",integer=True)\n",
    "x, y = symbols(\"x, y\")\n",
    "\n",
    "nCk = sp.factorial(n)/(sp.factorial(k)*sp.factorial(n-k))\n",
    "for n_i in range(8):\n",
    "    print([nCk.subs({n:n_i, k:k_i}) for k_i in range(n_i + 1)])"
   ]
  },
  {
   "cell_type": "markdown",
   "id": "34e3ff3b-0297-407e-806f-712c47e76a28",
   "metadata": {},
   "source": [
    "##### Binomial expansion directly using \"expand\""
   ]
  },
  {
   "cell_type": "code",
   "execution_count": 4,
   "id": "0cc46819-86b4-496f-a5db-949c7579ed4b",
   "metadata": {
    "tags": []
   },
   "outputs": [
    {
     "data": {
      "image/png": "[encoded data removed]",
      "text/latex": [
       "$\\displaystyle 1$"
      ],
      "text/plain": [
       "1"
      ]
     },
     "metadata": {},
     "output_type": "display_data"
    },
    {
     "data": {
      "image/png": "[encoded data removed]",
      "text/latex": [
       "$\\displaystyle x + y$"
      ],
      "text/plain": [
       "x + y"
      ]
     },
     "metadata": {},
     "output_type": "display_data"
    },
    {
     "data": {
      "image/png": "[encoded data removed]",
      "text/latex": [
       "$\\displaystyle x^{2} + 2 x y + y^{2}$"
      ],
      "text/plain": [
       " 2            2\n",
       "x  + 2⋅x⋅y + y "
      ]
     },
     "metadata": {},
     "output_type": "display_data"
    },
    {
     "data": {
      "image/png": "[encoded data removed]",
      "text/latex": [
       "$\\displaystyle x^{3} + 3 x^{2} y + 3 x y^{2} + y^{3}$"
      ],
      "text/plain": [
       " 3      2          2    3\n",
       "x  + 3⋅x ⋅y + 3⋅x⋅y  + y "
      ]
     },
     "metadata": {},
     "output_type": "display_data"
    },
    {
     "data": {
      "image/png": "[encoded data removed]",
      "text/latex": [
       "$\\displaystyle x^{4} + 4 x^{3} y + 6 x^{2} y^{2} + 4 x y^{3} + y^{4}$"
      ],
      "text/plain": [
       " 4      3        2  2        3    4\n",
       "x  + 4⋅x ⋅y + 6⋅x ⋅y  + 4⋅x⋅y  + y "
      ]
     },
     "metadata": {},
     "output_type": "display_data"
    },
    {
     "data": {
      "image/png": "[encoded data removed]",
      "text/latex": [
       "$\\displaystyle x^{5} + 5 x^{4} y + 10 x^{3} y^{2} + 10 x^{2} y^{3} + 5 x y^{4} + y^{5}$"
      ],
      "text/plain": [
       " 5      4         3  2       2  3        4    5\n",
       "x  + 5⋅x ⋅y + 10⋅x ⋅y  + 10⋅x ⋅y  + 5⋅x⋅y  + y "
      ]
     },
     "metadata": {},
     "output_type": "display_data"
    },
    {
     "data": {
      "image/png": "[encoded data removed]",
      "text/latex": [
       "$\\displaystyle x^{6} + 6 x^{5} y + 15 x^{4} y^{2} + 20 x^{3} y^{3} + 15 x^{2} y^{4} + 6 x y^{5} + y^{6}$"
      ],
      "text/plain": [
       " 6      5         4  2       3  3       2  4        5    6\n",
       "x  + 6⋅x ⋅y + 15⋅x ⋅y  + 20⋅x ⋅y  + 15⋅x ⋅y  + 6⋅x⋅y  + y "
      ]
     },
     "metadata": {},
     "output_type": "display_data"
    },
    {
     "data": {
      "image/png": "[encoded data removed]",
      "text/latex": [
       "$\\displaystyle x^{7} + 7 x^{6} y + 21 x^{5} y^{2} + 35 x^{4} y^{3} + 35 x^{3} y^{4} + 21 x^{2} y^{5} + 7 x y^{6} + y^{7}$"
      ],
      "text/plain": [
       " 7      6         5  2       4  3       3  4       2  5        6    7\n",
       "x  + 7⋅x ⋅y + 21⋅x ⋅y  + 35⋅x ⋅y  + 35⋅x ⋅y  + 21⋅x ⋅y  + 7⋅x⋅y  + y "
      ]
     },
     "metadata": {},
     "output_type": "display_data"
    }
   ],
   "source": [
    "for n_i in range(8):\n",
    "    display(sp.expand((x+y)**n_i,))"
   ]
  },
  {
   "cell_type": "markdown",
   "id": "eaa21b27-b5d5-48c6-ad25-50f7a2f86c67",
   "metadata": {},
   "source": [
    "#### The binomial distribution (p. 26)"
   ]
  },
  {
   "cell_type": "markdown",
   "id": "146a9e41-d82a-4b32-9ac3-4c69ba35031d",
   "metadata": {},
   "source": [
    "$ (Eq. 1.49): (x+y)^n = \\sum_{n=0}^{k=n} C^{n}_{k} x^{n-k} y^{k} $ "
   ]
  },
  {
   "cell_type": "code",
   "execution_count": 5,
   "id": "b2a41354-08fe-4f91-bf40-96dc5948987e",
   "metadata": {
    "tags": []
   },
   "outputs": [
    {
     "data": {
      "image/png": "[encoded data removed]",
      "text/latex": [
       "$\\displaystyle \\left[ 1\\right]$"
      ],
      "text/plain": [
       "[1]"
      ]
     },
     "metadata": {},
     "output_type": "display_data"
    },
    {
     "data": {
      "image/png": "[encoded data removed]",
      "text/latex": [
       "$\\displaystyle \\left[ x, \\  y\\right]$"
      ],
      "text/plain": [
       "[x, y]"
      ]
     },
     "metadata": {},
     "output_type": "display_data"
    },
    {
     "data": {
      "image/png": "[encoded data removed]",
      "text/latex": [
       "$\\displaystyle \\left[ x^{2}, \\  2 x y, \\  y^{2}\\right]$"
      ],
      "text/plain": [
       "⎡ 2          2⎤\n",
       "⎣x , 2⋅x⋅y, y ⎦"
      ]
     },
     "metadata": {},
     "output_type": "display_data"
    },
    {
     "data": {
      "image/png": "[encoded data removed]",
      "text/latex": [
       "$\\displaystyle \\left[ x^{3}, \\  3 x^{2} y, \\  3 x y^{2}, \\  y^{3}\\right]$"
      ],
      "text/plain": [
       "⎡ 3     2         2   3⎤\n",
       "⎣x , 3⋅x ⋅y, 3⋅x⋅y , y ⎦"
      ]
     },
     "metadata": {},
     "output_type": "display_data"
    },
    {
     "data": {
      "image/png": "[encoded data removed]",
      "text/latex": [
       "$\\displaystyle \\left[ x^{4}, \\  4 x^{3} y, \\  6 x^{2} y^{2}, \\  4 x y^{3}, \\  y^{4}\\right]$"
      ],
      "text/plain": [
       "⎡ 4     3       2  2       3   4⎤\n",
       "⎣x , 4⋅x ⋅y, 6⋅x ⋅y , 4⋅x⋅y , y ⎦"
      ]
     },
     "metadata": {},
     "output_type": "display_data"
    },
    {
     "data": {
      "image/png": "[encoded data removed]",
      "text/latex": [
       "$\\displaystyle \\left[ x^{5}, \\  5 x^{4} y, \\  10 x^{3} y^{2}, \\  10 x^{2} y^{3}, \\  5 x y^{4}, \\  y^{5}\\right]$"
      ],
      "text/plain": [
       "⎡ 5     4        3  2      2  3       4   5⎤\n",
       "⎣x , 5⋅x ⋅y, 10⋅x ⋅y , 10⋅x ⋅y , 5⋅x⋅y , y ⎦"
      ]
     },
     "metadata": {},
     "output_type": "display_data"
    },
    {
     "data": {
      "image/png": "[encoded data removed]",
      "text/latex": [
       "$\\displaystyle \\left[ x^{6}, \\  6 x^{5} y, \\  15 x^{4} y^{2}, \\  20 x^{3} y^{3}, \\  15 x^{2} y^{4}, \\  6 x y^{5}, \\  y^{6}\\right]$"
      ],
      "text/plain": [
       "⎡ 6     5        4  2      3  3      2  4       5   6⎤\n",
       "⎣x , 6⋅x ⋅y, 15⋅x ⋅y , 20⋅x ⋅y , 15⋅x ⋅y , 6⋅x⋅y , y ⎦"
      ]
     },
     "metadata": {},
     "output_type": "display_data"
    },
    {
     "data": {
      "image/png": "[encoded data removed]",
      "text/latex": [
       "$\\displaystyle \\left[ x^{7}, \\  7 x^{6} y, \\  21 x^{5} y^{2}, \\  35 x^{4} y^{3}, \\  35 x^{3} y^{4}, \\  21 x^{2} y^{5}, \\  7 x y^{6}, \\  y^{7}\\right]$"
      ],
      "text/plain": [
       "⎡ 7     6        5  2      4  3      3  4      2  5       6   7⎤\n",
       "⎣x , 7⋅x ⋅y, 21⋅x ⋅y , 35⋅x ⋅y , 35⋅x ⋅y , 21⋅x ⋅y , 7⋅x⋅y , y ⎦"
      ]
     },
     "metadata": {},
     "output_type": "display_data"
    }
   ],
   "source": [
    "BE = (nCk*(x**(n-k))*y**(k))\n",
    "BE.subs({n:15, k: 6, x: 3, y: 4})\n",
    "#display(BE.,(k,0,n)).doit().expand())\n",
    "for n_i in range(8):\n",
    "    display([BE.subs({n:n_i, k: k_i}) for k_i in range(n_i + 1)])"
   ]
  },
  {
   "cell_type": "code",
   "execution_count": 17,
   "id": "4714b423-cd61-4324-b980-1abbda1790cc",
   "metadata": {
    "tags": []
   },
   "outputs": [
    {
     "data": {
      "text/plain": [
       "True"
      ]
     },
     "execution_count": 17,
     "metadata": {},
     "output_type": "execute_result"
    }
   ],
   "source": [
    "nCk.subs({n:9, k:8}).equals(9)\n",
    "#nCk.subs({n:2, k:2}).evalf()\n",
    "#nCk.evalf()"
   ]
  },
  {
   "cell_type": "code",
   "execution_count": 7,
   "id": "3d15e73a-85c0-4de2-9a0d-2974d52fbd3c",
   "metadata": {
    "tags": []
   },
   "outputs": [
    {
     "data": {
      "image/png": "[encoded data removed]",
      "text/latex": [
       "$\\displaystyle {f}_{0}^{2} + {f}_{1}^{2} + {f}_{2}^{2} + {f}_{3}^{2}$"
      ],
      "text/plain": [
       "    2       2       2       2\n",
       "f[0]  + f[1]  + f[2]  + f[3] "
      ]
     },
     "execution_count": 7,
     "metadata": {},
     "output_type": "execute_result"
    }
   ],
   "source": [
    "f = lambdify(n,k)\n",
    "Sum(f(n), (n, 0, 3)).doit()\n",
    "f(0) + f(1) + f(2) + f(3)\n",
    "Sum(f(n), (n, 0, oo)).doit()\n",
    "Sum(f(n), (n, 0, oo))\n",
    "f = IndexedBase('f')\n",
    "Sum(f[n]**2, (n, 0, 3)).doit()\n",
    "f[0]**2 + f[1]**2 + f[2]**2 + f[3]**2"
   ]
  },
  {
   "cell_type": "code",
   "execution_count": 8,
   "id": "4f23607c-c831-43f0-8f7c-a6de984ddcd6",
   "metadata": {},
   "outputs": [
    {
     "ename": "ValueError",
     "evalue": "Invalid limits given: ((0, 1),)",
     "output_type": "error",
     "traceback": [
      "\u001b[0;31m---------------------------------------------------------------------------\u001b[0m",
      "\u001b[0;31mValueError\u001b[0m                                Traceback (most recent call last)",
      "Input \u001b[0;32mIn [8]\u001b[0m, in \u001b[0;36m<cell line: 2>\u001b[0;34m()\u001b[0m\n\u001b[1;32m      1\u001b[0m n_i \u001b[38;5;241m=\u001b[39m \u001b[38;5;241m1\u001b[39m\n\u001b[1;32m      2\u001b[0m \u001b[38;5;28;01mfor\u001b[39;00m k_i \u001b[38;5;129;01min\u001b[39;00m \u001b[38;5;28mrange\u001b[39m(n_i):\n\u001b[0;32m----> 3\u001b[0m     \u001b[43msp\u001b[49m\u001b[38;5;241;43m.\u001b[39;49m\u001b[43mSum\u001b[49m\u001b[43m(\u001b[49m\u001b[43msp\u001b[49m\u001b[38;5;241;43m.\u001b[39;49m\u001b[43mbinomial\u001b[49m\u001b[43m(\u001b[49m\u001b[43mn_i\u001b[49m\u001b[43m,\u001b[49m\u001b[43mk_i\u001b[49m\u001b[43m)\u001b[49m\u001b[38;5;241;43m*\u001b[39;49m\u001b[43mx\u001b[49m\u001b[38;5;241;43m*\u001b[39;49m\u001b[38;5;241;43m*\u001b[39;49m\u001b[43m(\u001b[49m\u001b[43mn_i\u001b[49m\u001b[38;5;241;43m-\u001b[39;49m\u001b[43mk_i\u001b[49m\u001b[43m)\u001b[49m\u001b[38;5;241;43m*\u001b[39;49m\u001b[43my\u001b[49m\u001b[38;5;241;43m*\u001b[39;49m\u001b[38;5;241;43m*\u001b[39;49m\u001b[43mk_i\u001b[49m\u001b[43m,\u001b[49m\u001b[43m(\u001b[49m\u001b[43mk_i\u001b[49m\u001b[43m,\u001b[49m\u001b[43mn_i\u001b[49m\u001b[43m)\u001b[49m\u001b[43m)\u001b[49m\u001b[38;5;241m.\u001b[39mdoit()\n",
      "File \u001b[0;32m~/anaconda3/lib/python3.9/site-packages/sympy/concrete/summations.py:186\u001b[0m, in \u001b[0;36mSum.__new__\u001b[0;34m(cls, function, *symbols, **assumptions)\u001b[0m\n\u001b[1;32m    185\u001b[0m \u001b[38;5;28;01mdef\u001b[39;00m \u001b[38;5;21m__new__\u001b[39m(\u001b[38;5;28mcls\u001b[39m, function, \u001b[38;5;241m*\u001b[39msymbols, \u001b[38;5;241m*\u001b[39m\u001b[38;5;241m*\u001b[39massumptions):\n\u001b[0;32m--> 186\u001b[0m     obj \u001b[38;5;241m=\u001b[39m \u001b[43mAddWithLimits\u001b[49m\u001b[38;5;241;43m.\u001b[39;49m\u001b[38;5;21;43m__new__\u001b[39;49m\u001b[43m(\u001b[49m\u001b[38;5;28;43mcls\u001b[39;49m\u001b[43m,\u001b[49m\u001b[43m \u001b[49m\u001b[43mfunction\u001b[49m\u001b[43m,\u001b[49m\u001b[43m \u001b[49m\u001b[38;5;241;43m*\u001b[39;49m\u001b[43msymbols\u001b[49m\u001b[43m,\u001b[49m\u001b[43m \u001b[49m\u001b[38;5;241;43m*\u001b[39;49m\u001b[38;5;241;43m*\u001b[39;49m\u001b[43massumptions\u001b[49m\u001b[43m)\u001b[49m\n\u001b[1;32m    187\u001b[0m     \u001b[38;5;28;01mif\u001b[39;00m \u001b[38;5;129;01mnot\u001b[39;00m \u001b[38;5;28mhasattr\u001b[39m(obj, \u001b[38;5;124m'\u001b[39m\u001b[38;5;124mlimits\u001b[39m\u001b[38;5;124m'\u001b[39m):\n\u001b[1;32m    188\u001b[0m         \u001b[38;5;28;01mreturn\u001b[39;00m obj\n",
      "File \u001b[0;32m~/anaconda3/lib/python3.9/site-packages/sympy/concrete/expr_with_limits.py:545\u001b[0m, in \u001b[0;36mAddWithLimits.__new__\u001b[0;34m(cls, function, *symbols, **assumptions)\u001b[0m\n\u001b[1;32m    543\u001b[0m \u001b[38;5;28;01mdef\u001b[39;00m \u001b[38;5;21m__new__\u001b[39m(\u001b[38;5;28mcls\u001b[39m, function, \u001b[38;5;241m*\u001b[39msymbols, \u001b[38;5;241m*\u001b[39m\u001b[38;5;241m*\u001b[39massumptions):\n\u001b[1;32m    544\u001b[0m     \u001b[38;5;28;01mfrom\u001b[39;00m \u001b[38;5;21;01msympy\u001b[39;00m\u001b[38;5;21;01m.\u001b[39;00m\u001b[38;5;21;01mconcrete\u001b[39;00m\u001b[38;5;21;01m.\u001b[39;00m\u001b[38;5;21;01msummations\u001b[39;00m \u001b[38;5;28;01mimport\u001b[39;00m Sum\n\u001b[0;32m--> 545\u001b[0m     pre \u001b[38;5;241m=\u001b[39m \u001b[43m_common_new\u001b[49m\u001b[43m(\u001b[49m\u001b[38;5;28;43mcls\u001b[39;49m\u001b[43m,\u001b[49m\u001b[43m \u001b[49m\u001b[43mfunction\u001b[49m\u001b[43m,\u001b[49m\u001b[43m \u001b[49m\u001b[38;5;241;43m*\u001b[39;49m\u001b[43msymbols\u001b[49m\u001b[43m,\u001b[49m\n\u001b[1;32m    546\u001b[0m \u001b[43m        \u001b[49m\u001b[43mdiscrete\u001b[49m\u001b[38;5;241;43m=\u001b[39;49m\u001b[38;5;28;43missubclass\u001b[39;49m\u001b[43m(\u001b[49m\u001b[38;5;28;43mcls\u001b[39;49m\u001b[43m,\u001b[49m\u001b[43m \u001b[49m\u001b[43mSum\u001b[49m\u001b[43m)\u001b[49m\u001b[43m,\u001b[49m\u001b[43m \u001b[49m\u001b[38;5;241;43m*\u001b[39;49m\u001b[38;5;241;43m*\u001b[39;49m\u001b[43massumptions\u001b[49m\u001b[43m)\u001b[49m\n\u001b[1;32m    547\u001b[0m     \u001b[38;5;28;01mif\u001b[39;00m \u001b[38;5;28misinstance\u001b[39m(pre, \u001b[38;5;28mtuple\u001b[39m):\n\u001b[1;32m    548\u001b[0m         function, limits, orientation \u001b[38;5;241m=\u001b[39m pre\n",
      "File \u001b[0;32m~/anaconda3/lib/python3.9/site-packages/sympy/concrete/expr_with_limits.py:57\u001b[0m, in \u001b[0;36m_common_new\u001b[0;34m(cls, function, discrete, *symbols, **assumptions)\u001b[0m\n\u001b[1;32m     54\u001b[0m     \u001b[38;5;28;01mreturn\u001b[39;00m S\u001b[38;5;241m.\u001b[39mNaN\n\u001b[1;32m     56\u001b[0m \u001b[38;5;28;01mif\u001b[39;00m symbols:\n\u001b[0;32m---> 57\u001b[0m     limits, orientation \u001b[38;5;241m=\u001b[39m \u001b[43m_process_limits\u001b[49m\u001b[43m(\u001b[49m\u001b[38;5;241;43m*\u001b[39;49m\u001b[43msymbols\u001b[49m\u001b[43m,\u001b[49m\u001b[43m \u001b[49m\u001b[43mdiscrete\u001b[49m\u001b[38;5;241;43m=\u001b[39;49m\u001b[43mdiscrete\u001b[49m\u001b[43m)\u001b[49m\n\u001b[1;32m     58\u001b[0m     \u001b[38;5;28;01mfor\u001b[39;00m i, li \u001b[38;5;129;01min\u001b[39;00m \u001b[38;5;28menumerate\u001b[39m(limits):\n\u001b[1;32m     59\u001b[0m         \u001b[38;5;28;01mif\u001b[39;00m \u001b[38;5;28mlen\u001b[39m(li) \u001b[38;5;241m==\u001b[39m \u001b[38;5;241m4\u001b[39m:\n",
      "File \u001b[0;32m~/anaconda3/lib/python3.9/site-packages/sympy/concrete/expr_with_limits.py:194\u001b[0m, in \u001b[0;36m_process_limits\u001b[0;34m(discrete, *symbols)\u001b[0m\n\u001b[1;32m    191\u001b[0m                     limits\u001b[38;5;241m.\u001b[39mappend(Tuple(newsymbol, V[\u001b[38;5;241m1\u001b[39m]))\n\u001b[1;32m    192\u001b[0m                     \u001b[38;5;28;01mcontinue\u001b[39;00m\n\u001b[0;32m--> 194\u001b[0m     \u001b[38;5;28;01mraise\u001b[39;00m \u001b[38;5;167;01mValueError\u001b[39;00m(\u001b[38;5;124m'\u001b[39m\u001b[38;5;124mInvalid limits given: \u001b[39m\u001b[38;5;132;01m%s\u001b[39;00m\u001b[38;5;124m'\u001b[39m \u001b[38;5;241m%\u001b[39m \u001b[38;5;28mstr\u001b[39m(symbols))\n\u001b[1;32m    196\u001b[0m \u001b[38;5;28;01mreturn\u001b[39;00m limits, orientation\n",
      "\u001b[0;31mValueError\u001b[0m: Invalid limits given: ((0, 1),)"
     ]
    }
   ],
   "source": [
    "\n",
    "n_i = 1\n",
    "for k_i in range(n_i):\n",
    "    sp.Sum(sp.binomial(n_i,k_i)*x**(n_i-k_i)*y**k_i,(k_i,n_i)).doit()\n",
    "    #print([sp.binomial(n,k_i)*x**(n-k_i)*y**k_i for k_i in range(n_i + 1)])\n",
    "    #display(sp.Sum(sp.binomial(n_i,k_i)*x**(n_i-k_i)*y**k_i,(k_i,0,n_i)).doit())\n",
    "    \n",
    "#sf = sp.Sum(x,(x,0,4))\n",
    "#display(sf)\n",
    "# sp.sum(x,(x,0,oo))\n",
    "#sf.evalf(4)"
   ]
  },
  {
   "cell_type": "code",
   "execution_count": null,
   "id": "aa6fffd9-501e-49fc-9ea5-d79ec2560429",
   "metadata": {},
   "outputs": [],
   "source": [
    "a, b = symbols(\"alpha, beta\")\n",
    "f =sp.exp(-x)\n",
    "sp.Sum(f,x,oo)"
   ]
  },
  {
   "cell_type": "code",
   "execution_count": null,
   "id": "137f9fa6-86b6-483e-ab3d-0b4bf31b545c",
   "metadata": {},
   "outputs": [],
   "source": [
    "a, b = symbols(\"alpha, beta\")\n",
    "f =sp.exp(-x)\n",
    "sp.Sum(f,x,oo)"
   ]
  },
  {
   "cell_type": "code",
   "execution_count": null,
   "id": "f90db2ed-64cb-4d32-b9ff-1b7eaa62c1aa",
   "metadata": {},
   "outputs": [],
   "source": [
    "x, i = symbols(\"x i\")\n",
    "s = Sum(Indexed('x',i),(i,0,3))\n",
    "f = lambdify(x, s)\n",
    "b = np.array([1, 2, 3, 4])\n",
    "f(b)"
   ]
  },
  {
   "cell_type": "code",
   "execution_count": null,
   "id": "74483c1f-418f-4cb1-a288-52c35ad79d31",
   "metadata": {},
   "outputs": [],
   "source": [
    "display(f)"
   ]
  },
  {
   "cell_type": "code",
   "execution_count": null,
   "id": "7ea4f6f3-9fc9-42ea-866f-4ec9af65a60a",
   "metadata": {},
   "outputs": [],
   "source": []
  },
  {
   "cell_type": "code",
   "execution_count": null,
   "id": "64753ff2-9766-4d83-b8df-f02c72d0f769",
   "metadata": {},
   "outputs": [],
   "source": [
    "Sum(k, (k, 1, m)).doit()"
   ]
  },
  {
   "cell_type": "code",
   "execution_count": null,
   "id": "a6af1841-a43a-4a36-b05f-11a54d6d12a0",
   "metadata": {},
   "outputs": [],
   "source": [
    "Sum(k**2, (k, 1, m)).doit()"
   ]
  },
  {
   "cell_type": "code",
   "execution_count": null,
   "id": "d095655c-bba6-4604-88ae-6cf384b729a5",
   "metadata": {},
   "outputs": [],
   "source": [
    "Sum(x**k, (k, 0, oo)).doit()"
   ]
  },
  {
   "cell_type": "code",
   "execution_count": null,
   "id": "13a2a260-c468-48dd-970f-bc8558befdf0",
   "metadata": {},
   "outputs": [],
   "source": [
    "Sum(x**k/factorial(k), (k, 0, oo)).doit()"
   ]
  },
  {
   "cell_type": "code",
   "execution_count": null,
   "id": "094266c9-7f47-4001-b3a7-929911b683d5",
   "metadata": {},
   "outputs": [],
   "source": [
    "from sympy import Sum, symbols, Indexed, lambdify\n",
    "from scipy.optimize import minimize\n",
    "import numpy as np\n",
    "\n",
    "def _eqn(y, variables, periods, sign=-1.0):\n",
    "    x, i = symbols(\"x i\")\n",
    "    n = periods-1\n",
    "    s = Sum(Indexed('x', i)/(1+0.06)**i, (i, 0, n))\n",
    "    f = lambdify(x, s, modules=['sympy'])\n",
    "    return float(sign*(y + f(variables)))\n",
    "\n",
    "z = 3\n",
    "results = minimize(lambda x: _eqn(3, x, z),np.zeros(z))\n",
    "print(results.x)"
   ]
  },
  {
   "cell_type": "code",
   "execution_count": null,
   "id": "3b457244-8fb4-4142-99df-c54a2e646884",
   "metadata": {},
   "outputs": [],
   "source": [
    "def test_issue_5526():\n",
    "    assert reduce_inequalities(S(0) <=\n",
    "        x + Integral(y**2, (y, 1, 3)) - 1, [x]) == \\\n",
    "        (x >= -Integral(y**2, (y, 1, 3)) + 1)\n",
    "    f = Function('f')\n",
    "    e = Sum(f(x), (x, 1, 3))\n",
    "    assert reduce_inequalities(S(0) <= x + e + y**2, [x]) == \\\n",
    "        (x >= -y**2 - Sum(f(x), (x, 1, 3)))"
   ]
  },
  {
   "cell_type": "code",
   "execution_count": null,
   "id": "7ffa2a90-ae79-4dfe-bff8-4bcfbedf363d",
   "metadata": {},
   "outputs": [],
   "source": [
    "import sympy as sp\n",
    "sp.init_printing()\n",
    "n = sp.symbols(\"n\")\n",
    "display(sp.Sum(n**2 - n, (n,0,10)).expand())"
   ]
  },
  {
   "cell_type": "code",
   "execution_count": null,
   "id": "fe77a5c2-09a9-4e6a-9315-9989f30e7502",
   "metadata": {},
   "outputs": [],
   "source": [
    "a, b = symbols(\"a b\")\n",
    "sp.Sum(x**2,(x,a,b))"
   ]
  },
  {
   "cell_type": "code",
   "execution_count": null,
   "id": "f2cff689-3346-42b9-a40e-a26c217eb049",
   "metadata": {},
   "outputs": [],
   "source": [
    "i, j = symbols('i j')\n",
    "g = IndexedBase('g')\n",
    "\n",
    "sum1 = sp.Sum(g[i], (i,0,j))\n",
    "display(sum1.doit())"
   ]
  },
  {
   "cell_type": "code",
   "execution_count": null,
   "id": "a31900d5-00bc-4552-ba70-15963c189fc3",
   "metadata": {},
   "outputs": [],
   "source": [
    "from sympy.abc import i, k, m, n, x\n",
    "from sympy import Sum, factorial, oo, IndexedBase, Function\n",
    "Sum(k, (k, 1, m))\n",
    "Sum(k, (k, 1, m))\n",
    "Sum(k, (k, 1, m)).doit()\n",
    "#exp(x)"
   ]
  },
  {
   "cell_type": "code",
   "execution_count": null,
   "id": "2e5f422b-7fed-4817-aa17-e9cf73831c9e",
   "metadata": {},
   "outputs": [],
   "source": []
  }
 ],
 "metadata": {
  "kernelspec": {
   "display_name": "Python 3 (ipykernel)",
   "language": "python",
   "name": "python3"
  },
  "language_info": {
   "codemirror_mode": {
    "name": "ipython",
    "version": 3
   },
   "file_extension": ".py",
   "mimetype": "text/x-python",
   "name": "python",
   "nbconvert_exporter": "python",
   "pygments_lexer": "ipython3",
   "version": "3.9.12"
  }
 },
 "nbformat": 4,
 "nbformat_minor": 5
}
