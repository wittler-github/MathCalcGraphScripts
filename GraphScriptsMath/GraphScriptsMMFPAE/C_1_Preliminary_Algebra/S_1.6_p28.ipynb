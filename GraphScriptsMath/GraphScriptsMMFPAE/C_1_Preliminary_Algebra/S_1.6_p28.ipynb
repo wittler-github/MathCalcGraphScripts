{
 "cells": [
  {
   "cell_type": "code",
   "execution_count": 2,
   "id": "fc96235f-b8c7-4482-9b2e-3c454a37a5a3",
   "metadata": {},
   "outputs": [],
   "source": [
    "## Section 1.4 page 18 - parametric representations of conic sections"
   ]
  },
  {
   "cell_type": "code",
   "execution_count": 37,
   "id": "efdf5fbd-641c-4005-9ca5-139befeb24e4",
   "metadata": {},
   "outputs": [],
   "source": [
    "import matplotlib as mpl\n",
    "import numpy as np\n",
    "import sympy as sp\n",
    "from sympy import Sum, symbols, Indexed, lambdify, Integral, Limit\n",
    "from sympy.abc import i, k, m, n, x\n",
    "from sympy import Sum, factorial, oo, IndexedBase, Function\n",
    "import matplotlib.pyplot as plt"
   ]
  },
  {
   "cell_type": "markdown",
   "id": "eaa21b27-b5d5-48c6-ad25-50f7a2f86c67",
   "metadata": {},
   "source": [
    "$ \\text{The binomial distribution}$"
   ]
  },
  {
   "cell_type": "markdown",
   "id": "146a9e41-d82a-4b32-9ac3-4c69ba35031d",
   "metadata": {},
   "source": [
    "$ (Eq. 1.49): (x+y)^n = \\sum_{n=0}^{k=n} C^{n}_{k} x^{n-k} y^{k} $ "
   ]
  },
  {
   "cell_type": "markdown",
   "id": "ea1d2f14-3412-4051-8593-f64ce34ee6f3",
   "metadata": {
    "tags": []
   },
   "source": []
  },
  {
   "cell_type": "code",
   "execution_count": 90,
   "id": "8aa1fe1b-5031-4b1e-a98b-23e49fcba74b",
   "metadata": {},
   "outputs": [
    {
     "data": {
      "text/latex": [
       "$\\displaystyle 24$"
      ],
      "text/plain": [
       "24"
      ]
     },
     "metadata": {},
     "output_type": "display_data"
    },
    {
     "data": {
      "text/latex": [
       "$\\displaystyle {\\binom{n}{k}}$"
      ],
      "text/plain": [
       "binomial(n, k)"
      ]
     },
     "metadata": {},
     "output_type": "display_data"
    },
    {
     "data": {
      "text/latex": [
       "$\\displaystyle \\sum_{n=0}^{10} x^{- k + n} y^{k} {\\binom{n}{k}}$"
      ],
      "text/plain": [
       "Sum(x**(-k + n)*y**k*binomial(n, k), (n, 0, 10))"
      ]
     },
     "metadata": {},
     "output_type": "display_data"
    },
    {
     "data": {
      "text/latex": [
       "$\\displaystyle \\sum_{n=0}^{10} x^{- k + n} y^{k} {\\binom{n}{k}}$"
      ],
      "text/plain": [
       "Sum(x**(-k + n)*y**k*binomial(n, k), (n, 0, 10))"
      ]
     },
     "execution_count": 90,
     "metadata": {},
     "output_type": "execute_result"
    }
   ],
   "source": [
    "n, k = symbols(\"n, k\",integer=True)\n",
    "x, y = symbols(\"x, y\")\n",
    "ff = factorial(4)\n",
    "display(ff)\n",
    "ff.evalf()\n",
    "bf = sp.binomial(n,k)\n",
    "display(bf)\n",
    "bf.evalf()\n",
    "bdf = sp.Sum(bf*x**(n-k)*y**k,(n,0,10))\n",
    "display(bdf)\n",
    "bdf.evalf()\n",
    "#sf = sp.Sum(x,(x,0,4))\n",
    "#display(sf)\n",
    "# sp.sum(x,(x,0,oo))\n",
    "#sf.evalf(4)"
   ]
  },
  {
   "cell_type": "code",
   "execution_count": 51,
   "id": "aa6fffd9-501e-49fc-9ea5-d79ec2560429",
   "metadata": {},
   "outputs": [
    {
     "data": {
      "text/latex": [
       "$\\displaystyle \\lim_{x \\to \\infty} e^{- x}$"
      ],
      "text/plain": [
       "Limit(exp(-x), x, oo, dir='-')"
      ]
     },
     "execution_count": 51,
     "metadata": {},
     "output_type": "execute_result"
    }
   ],
   "source": [
    "a, b = symbols(\"alpha, beta\")\n",
    "f =sp.exp(-x)\n",
    "sp.Sum(f,x,oo)"
   ]
  },
  {
   "cell_type": "code",
   "execution_count": 51,
   "id": "137f9fa6-86b6-483e-ab3d-0b4bf31b545c",
   "metadata": {},
   "outputs": [
    {
     "data": {
      "text/latex": [
       "$\\displaystyle \\lim_{x \\to \\infty} e^{- x}$"
      ],
      "text/plain": [
       "Limit(exp(-x), x, oo, dir='-')"
      ]
     },
     "execution_count": 51,
     "metadata": {},
     "output_type": "execute_result"
    }
   ],
   "source": [
    "a, b = symbols(\"alpha, beta\")\n",
    "f =sp.exp(-x)\n",
    "sp.Sum(f,x,oo)"
   ]
  },
  {
   "cell_type": "code",
   "execution_count": 7,
   "id": "f90db2ed-64cb-4d32-b9ff-1b7eaa62c1aa",
   "metadata": {},
   "outputs": [
    {
     "data": {
      "text/plain": [
       "10"
      ]
     },
     "execution_count": 7,
     "metadata": {},
     "output_type": "execute_result"
    }
   ],
   "source": [
    "x, i = symbols(\"x i\")\n",
    "s = Sum(Indexed('x',i),(i,0,3))\n",
    "f = lambdify(x, s)\n",
    "b = np.array([1, 2, 3, 4])\n",
    "f(b)"
   ]
  },
  {
   "cell_type": "code",
   "execution_count": 8,
   "id": "74483c1f-418f-4cb1-a288-52c35ad79d31",
   "metadata": {},
   "outputs": [
    {
     "data": {
      "text/plain": [
       "<function _lambdifygenerated(x)>"
      ]
     },
     "metadata": {},
     "output_type": "display_data"
    }
   ],
   "source": [
    "display(f)"
   ]
  },
  {
   "cell_type": "code",
   "execution_count": null,
   "id": "7ea4f6f3-9fc9-42ea-866f-4ec9af65a60a",
   "metadata": {},
   "outputs": [],
   "source": []
  },
  {
   "cell_type": "code",
   "execution_count": 6,
   "id": "64753ff2-9766-4d83-b8df-f02c72d0f769",
   "metadata": {},
   "outputs": [
    {
     "data": {
      "text/latex": [
       "$\\displaystyle \\frac{m^{2}}{2} + \\frac{m}{2}$"
      ],
      "text/plain": [
       "m**2/2 + m/2"
      ]
     },
     "execution_count": 6,
     "metadata": {},
     "output_type": "execute_result"
    }
   ],
   "source": [
    "Sum(k, (k, 1, m)).doit()"
   ]
  },
  {
   "cell_type": "code",
   "execution_count": 15,
   "id": "a6af1841-a43a-4a36-b05f-11a54d6d12a0",
   "metadata": {},
   "outputs": [
    {
     "data": {
      "text/latex": [
       "$\\displaystyle \\frac{m^{3}}{3} + \\frac{m^{2}}{2} + \\frac{m}{6}$"
      ],
      "text/plain": [
       "m**3/3 + m**2/2 + m/6"
      ]
     },
     "execution_count": 15,
     "metadata": {},
     "output_type": "execute_result"
    }
   ],
   "source": [
    "Sum(k**2, (k, 1, m)).doit()"
   ]
  },
  {
   "cell_type": "code",
   "execution_count": 14,
   "id": "d095655c-bba6-4604-88ae-6cf384b729a5",
   "metadata": {},
   "outputs": [
    {
     "data": {
      "text/latex": [
       "$\\displaystyle \\begin{cases} \\frac{1}{1 - x} & \\text{for}\\: \\left|{x}\\right| < 1 \\\\\\sum_{k=0}^{\\infty} x^{k} & \\text{otherwise} \\end{cases}$"
      ],
      "text/plain": [
       "Piecewise((1/(1 - x), Abs(x) < 1), (Sum(x**k, (k, 0, oo)), True))"
      ]
     },
     "execution_count": 14,
     "metadata": {},
     "output_type": "execute_result"
    }
   ],
   "source": [
    "Sum(x**k, (k, 0, oo)).doit()"
   ]
  },
  {
   "cell_type": "code",
   "execution_count": 9,
   "id": "13a2a260-c468-48dd-970f-bc8558befdf0",
   "metadata": {},
   "outputs": [
    {
     "data": {
      "text/latex": [
       "$\\displaystyle e^{x}$"
      ],
      "text/plain": [
       "exp(x)"
      ]
     },
     "execution_count": 9,
     "metadata": {},
     "output_type": "execute_result"
    }
   ],
   "source": [
    "Sum(x**k/factorial(k), (k, 0, oo)).doit()"
   ]
  },
  {
   "cell_type": "code",
   "execution_count": null,
   "id": "094266c9-7f47-4001-b3a7-929911b683d5",
   "metadata": {},
   "outputs": [],
   "source": []
  }
 ],
 "metadata": {
  "kernelspec": {
   "display_name": "Python 3 (ipykernel)",
   "language": "python",
   "name": "python3"
  },
  "language_info": {
   "codemirror_mode": {
    "name": "ipython",
    "version": 3
   },
   "file_extension": ".py",
   "mimetype": "text/x-python",
   "name": "python",
   "nbconvert_exporter": "python",
   "pygments_lexer": "ipython3",
   "version": "3.9.12"
  }
 },
 "nbformat": 4,
 "nbformat_minor": 5
}
